{
 "cells": [
  {
   "cell_type": "markdown",
   "id": "6334ce20",
   "metadata": {},
   "source": [
    "# EnginML Tutorial Notebook\n",
    "\n",
    "This notebook demonstrates how to use the `EnginML` package for common machine learning tasks. The package is designed to make machine learning accessible to engineers with minimal programming experience.\n",
    "\n",
    "## Setup\n",
    "\n",
    "First, let's make sure the package is installed and import the necessary functions."
   ]
  },
  {
   "cell_type": "code",
   "execution_count": null,
   "id": "8c1ccda4",
   "metadata": {},
   "outputs": [],
   "source": [
    "# Uncomment to install the package if needed\n",
    "# !pip install EnginML\n",
    "\n",
    "# Import required libraries\n",
    "import numpy as np\n",
    "import pandas as pd\n",
    "import matplotlib.pyplot as plt\n",
    "\n",
    "# Import EnginML functions\n",
    "try:\n",
    "    from EnginML import fit_regression, fit_classification, fit_clustering, load_csv_or_excel, save_report\n",
    "except ImportError:\n",
    "    # If package is not installed, try relative import\n",
    "    import sys\n",
    "    import os\n",
    "    sys.path.append(os.path.dirname(os.path.dirname(os.path.abspath('__file__'))))\n",
    "    from EnginML import fit_regression, fit_classification, fit_clustering, load_csv_or_excel, save_report"
   ]
  },
  {
   "cell_type": "markdown",
   "id": "85473cba",
   "metadata": {},
   "source": [
    "## 1. Regression Example\n",
    "\n",
    "Let's start with a regression example using our sample dataset."
   ]
  },
  {
   "cell_type": "code",
   "execution_count": null,
   "id": "bc3d5f8b",
   "metadata": {},
   "outputs": [],
   "source": [
    "# Load the sample data\n",
    "df = pd.read_csv('sample_data.csv')\n",
    "\n",
    "# Display the first few rows\n",
    "print(\"Dataset shape:\", df.shape)\n",
    "df.head()"
   ]
  },
  {
   "cell_type": "code",
   "execution_count": null,
   "id": "4b13cea0",
   "metadata": {},
   "outputs": [],
   "source": [
    "# Prepare features and target for regression\n",
    "X = df.drop(columns=['target']).values\n",
    "y = df['target'].values\n",
    "feature_names = df.drop(columns=['target']).columns.tolist()\n",
    "\n",
    "print(\"Features:\", feature_names)\n",
    "print(\"X shape:\", X.shape)\n",
    "print(\"y shape:\", y.shape)"
   ]
  },
  {
   "cell_type": "code",
   "execution_count": null,
   "id": "c48bac4f",
   "metadata": {},
   "outputs": [],
   "source": [
    "# Fit a regression model\n",
    "print(\"Fitting Random Forest regression model...\")\n",
    "result = fit_regression(X, y, model=\"random_forest\")\n",
    "\n",
    "# Print metrics\n",
    "print(\"\\nModel Performance:\")\n",
    "for name, value in result[\"metrics\"].items():\n",
    "    print(f\"  {name}: {value:.4f}\")"
   ]
  },
  {
   "cell_type": "code",
   "execution_count": null,
   "id": "94e1ee1d",
   "metadata": {},
   "outputs": [],
   "source": [
    "# Try a different model\n",
    "print(\"Fitting KNN regression model...\")\n",
    "result_knn = fit_regression(X, y, model=\"knn\")\n",
    "\n",
    "# Print metrics\n",
    "print(\"\\nModel Performance:\")\n",
    "for name, value in result_knn[\"metrics\"].items():\n",
    "    print(f\"  {name}: {value:.4f}\")"
   ]
  },
  {
   "cell_type": "code",
   "execution_count": null,
   "id": "ba924a2d",
   "metadata": {},
   "outputs": [],
   "source": [
    "# Save the report\n",
    "report_path = save_report(\n",
    "    result, X, y, \n",
    "    task_type=\"regression\",\n",
    "    feature_names=feature_names,\n",
    "    output_path=\"regression_notebook_report.html\"\n",
    ")\n",
    "print(f\"Report saved to: {report_path}\")"
   ]
  },
  {
   "cell_type": "markdown",
   "id": "55bf1bdf",
   "metadata": {},
   "source": [
    "## 2. Classification Example\n",
    "\n",
    "Now let's create a synthetic classification dataset and run a classification model."
   ]
  },
  {
   "cell_type": "code",
   "execution_count": null,
   "id": "9fb9d011",
   "metadata": {},
   "outputs": [],
   "source": [
    "# Create a synthetic classification dataset\n",
    "from sklearn.datasets import make_classification\n",
    "\n",
    "X_cls, y_cls = make_classification(\n",
    "    n_samples=100, \n",
    "    n_features=4, \n",
    "    n_informative=2, \n",
    "    n_redundant=0, \n",
    "    n_classes=2,\n",
    "    random_state=42\n",
    ")\n",
    "\n",
    "# Create feature names\n",
    "cls_feature_names = [f'feature{i+1}' for i in range(X_cls.shape[1])]\n",
    "\n",
    "# Display dataset info\n",
    "print(\"Classification dataset shape:\", X_cls.shape)\n",
    "print(\"Target distribution:\")\n",
    "pd.Series(y_cls).value_counts()"
   ]
  },
  {
   "cell_type": "code",
   "execution_count": null,
   "id": "fc337ea4",
   "metadata": {},
   "outputs": [],
   "source": [
    "# Fit a classification model\n",
    "print(\"Fitting Random Forest classification model...\")\n",
    "cls_result = fit_classification(X_cls, y_cls, model=\"random_forest\")\n",
    "\n",
    "# Print metrics\n",
    "print(\"\\nModel Performance:\")\n",
    "for name, value in cls_result[\"metrics\"].items():\n",
    "    print(f\"  {name}: {value:.4f}\")"
   ]
  },
  {
   "cell_type": "code",
   "execution_count": null,
   "id": "76002cc2",
   "metadata": {},
   "outputs": [],
   "source": [
    "# Save the classification report\n",
    "cls_report_path = save_report(\n",
    "    cls_result, X_cls, y_cls, \n",
    "    task_type=\"classification\",\n",
    "    feature_names=cls_feature_names,\n",
    "    output_path=\"classification_notebook_report.html\"\n",
    ")\n",
    "print(f\"Report saved to: {cls_report_path}\")"
   ]
  },
  {
   "cell_type": "markdown",
   "id": "9a59b7f5",
   "metadata": {},
   "source": [
    "## 3. Clustering Example\n",
    "\n",
    "Finally, let's perform clustering on our sample data."
   ]
  },
  {
   "cell_type": "code",
   "execution_count": null,
   "id": "898c389b",
   "metadata": {},
   "outputs": [],
   "source": [
    "# Create a synthetic clustering dataset\n",
    "from sklearn.datasets import make_blobs\n",
    "\n",
    "X_clust, y_true = make_blobs(\n",
    "    n_samples=200, \n",
    "    centers=3, \n",
    "    cluster_std=0.60, \n",
    "    random_state=42\n",
    ")\n",
    "\n",
    "# Plot the true clusters\n",
    "plt.figure(figsize=(8, 6))\n",
    "plt.scatter(X_clust[:, 0], X_clust[:, 1], c=y_true, cmap='viridis', alpha=0.7)\n",
    "plt.title('True Clusters')\n",
    "plt.colorbar(label='Cluster')\n",
    "plt.show()"
   ]
  },
  {
   "cell_type": "code",
   "execution_count": null,
   "id": "4c6ec2db",
   "metadata": {},
   "outputs": [],
   "source": [
    "# Fit a clustering model\n",
    "print(\"Fitting K-Means clustering model...\")\n",
    "clust_result = fit_clustering(X_clust, model=\"kmeans\", n_clusters=3)\n",
    "\n",
    "# Print metrics\n",
    "print(\"\\nModel Performance:\")\n",
    "for name, value in clust_result[\"metrics\"].items():\n",
    "    print(f\"  {name}: {value:.4f}\")"
   ]
  },
  {
   "cell_type": "code",
   "execution_count": null,
   "id": "b7e7a2cf",
   "metadata": {},
   "outputs": [],
   "source": [
    "# Plot the predicted clusters\n",
    "plt.figure(figsize=(8, 6))\n",
    "plt.scatter(X_clust[:, 0], X_clust[:, 1], c=clust_result['labels'], cmap='viridis', alpha=0.7)\n",
    "plt.title('Predicted Clusters (K-Means)')\n",
    "plt.colorbar(label='Cluster')\n",
    "plt.show()"
   ]
  },
  {
   "cell_type": "code",
   "execution_count": null,
   "id": "92bda320",
   "metadata": {},
   "outputs": [],
   "source": [
    "# Try a different clustering algorithm\n",
    "print(\"Fitting Gaussian Mixture Model...\")\n",
    "gmm_result = fit_clustering(X_clust, model=\"gmm\", n_clusters=3)\n",
    "\n",
    "# Print metrics\n",
    "print(\"\\nModel Performance:\")\n",
    "for name, value in gmm_result[\"metrics\"].items():\n",
    "    print(f\"  {name}: {value:.4f}\")\n",
    "\n",
    "# Plot the predicted clusters\n",
    "plt.figure(figsize=(8, 6))\n",
    "plt.scatter(X_clust[:, 0], X_clust[:, 1], c=gmm_result['labels'], cmap='viridis', alpha=0.7)\n",
    "plt.title('Predicted Clusters (GMM)')\n",
    "plt.colorbar(label='Cluster')\n",
    "plt.show()"
   ]
  },
  {
   "cell_type": "code",
   "execution_count": null,
   "id": "7009c4e7",
   "metadata": {},
   "outputs": [],
   "source": [
    "# Save the clustering report\n",
    "clust_report_path = save_report(\n",
    "    clust_result, X_clust, \n",
    "    task_type=\"clustering\",\n",
    "    feature_names=['Feature 1', 'Feature 2'],\n",
    "    output_path=\"clustering_notebook_report.html\"\n",
    ")\n",
    "print(f\"Report saved to: {clust_report_path}\")"
   ]
  },
  {
   "cell_type": "markdown",
   "id": "d4b0a0a9",
   "metadata": {},
   "source": [
    "## Conclusion\n",
    "\n",
    "This notebook demonstrated how to use the `EnginML` package for three common machine learning tasks:\n",
    "\n",
    "1. **Regression**: Predicting continuous values\n",
    "2. **Classification**: Predicting categorical values\n",
    "3. **Clustering**: Grouping similar data points\n",
    "\n",
    "The package provides a simple, consistent interface for these tasks, making machine learning accessible to engineers with minimal programming experience. The HTML reports generated by the package provide visualizations and metrics to help understand model performance.\n",
    "\n",
    "For more information, see the README.md file and the examples directory in the package repository."
   ]
  }
 ],
 "metadata": {
  "language_info": {
   "name": "python"
  }
 },
 "nbformat": 4,
 "nbformat_minor": 5
}
